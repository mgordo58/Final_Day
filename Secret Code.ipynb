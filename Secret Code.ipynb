{
 "cells": [
  {
   "cell_type": "code",
   "execution_count": 17,
   "id": "b6c8e036",
   "metadata": {},
   "outputs": [
    {
     "name": "stdout",
     "output_type": "stream",
     "text": [
      "Enter your pin: 49855\n",
      "\n",
      "Incorrect, try again.\n",
      "Enter your pin: 49494\n",
      "\n",
      "Incorrect, try again.\n",
      "Enter your pin: 774123\n",
      "\n",
      "Incorrect, try again.\n",
      "sorry, you have been locked out!\n"
     ]
    }
   ],
   "source": [
    "pin = {18718}  # Correct pin code\n",
    "\n",
    "count = 1\n",
    "while True:\n",
    "    enter_pin = int(input(\"Enter your pin: \")); \n",
    "    if (enter_pin) in pin:\n",
    "        print(\"18718\")\n",
    "        print(\"Correct, welcome back!\")\n",
    "        break\n",
    "    print(\"\")\n",
    "    print(\"Incorrect, try again.\")\n",
    "    count += 1\n",
    "    if count == 4:\n",
    "        print(\"sorry, you have been locked out!\")\n",
    "        break\n",
    "        "
   ]
  },
  {
   "cell_type": "code",
   "execution_count": null,
   "id": "45209185",
   "metadata": {},
   "outputs": [],
   "source": []
  },
  {
   "cell_type": "code",
   "execution_count": null,
   "id": "b9a10b8e",
   "metadata": {},
   "outputs": [],
   "source": []
  }
 ],
 "metadata": {
  "kernelspec": {
   "display_name": "Python 3 (ipykernel)",
   "language": "python",
   "name": "python3"
  },
  "language_info": {
   "codemirror_mode": {
    "name": "ipython",
    "version": 3
   },
   "file_extension": ".py",
   "mimetype": "text/x-python",
   "name": "python",
   "nbconvert_exporter": "python",
   "pygments_lexer": "ipython3",
   "version": "3.11.4"
  }
 },
 "nbformat": 4,
 "nbformat_minor": 5
}
